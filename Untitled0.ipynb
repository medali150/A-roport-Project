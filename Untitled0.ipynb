{
  "nbformat": 4,
  "nbformat_minor": 0,
  "metadata": {
    "colab": {
      "provenance": [],
      "toc_visible": true,
      "authorship_tag": "ABX9TyN3Pfq0ushm8ddaxINBMy3X",
      "include_colab_link": true
    },
    "kernelspec": {
      "name": "python3",
      "display_name": "Python 3"
    },
    "language_info": {
      "name": "python"
    }
  },
  "cells": [
    {
      "cell_type": "markdown",
      "metadata": {
        "id": "view-in-github",
        "colab_type": "text"
      },
      "source": [
        "<a href=\"https://colab.research.google.com/github/medali150/A-roport-Project/blob/main/Untitled0.ipynb\" target=\"_parent\"><img src=\"https://colab.research.google.com/assets/colab-badge.svg\" alt=\"Open In Colab\"/></a>"
      ]
    },
    {
      "cell_type": "code",
      "execution_count": null,
      "metadata": {
        "id": "RF-J5AkvtjF3"
      },
      "outputs": [],
      "source": []
    },
    {
      "cell_type": "markdown",
      "source": [
        "# TP 2"
      ],
      "metadata": {
        "id": "IYfdIzGQusJE"
      }
    },
    {
      "cell_type": "markdown",
      "source": [
        "# Python’s Dynamic Typing Problem"
      ],
      "metadata": {
        "id": "061TF3Fdu07E"
      }
    },
    {
      "cell_type": "markdown",
      "source": [
        "# ex1"
      ],
      "metadata": {
        "id": "WrejVZ_qxP0V"
      }
    },
    {
      "cell_type": "code",
      "source": [
        "# Python\n",
        "x = 10\n"
      ],
      "metadata": {
        "id": "n8Gq8tiruz3c"
      },
      "execution_count": null,
      "outputs": []
    },
    {
      "cell_type": "markdown",
      "source": [
        "# ex 2"
      ],
      "metadata": {
        "id": "ii9yacuhxVyS"
      }
    },
    {
      "cell_type": "code",
      "source": [
        "ali = Person(\"Ali\", 24) # Correct\n",
        "ali= Person(\"Ali\",\"24\") # Mistake"
      ],
      "metadata": {
        "id": "z-jmtUuLxcgU",
        "colab": {
          "base_uri": "https://localhost:8080/",
          "height": 164
        },
        "outputId": "2c729124-6cf0-40db-a7de-0ff371a13e94"
      },
      "execution_count": 4,
      "outputs": [
        {
          "output_type": "error",
          "ename": "NameError",
          "evalue": "name 'Person' is not defined",
          "traceback": [
            "\u001b[0;31m---------------------------------------------------------------------------\u001b[0m",
            "\u001b[0;31mNameError\u001b[0m                                 Traceback (most recent call last)",
            "\u001b[0;32m<ipython-input-4-053404a4dd06>\u001b[0m in \u001b[0;36m<cell line: 0>\u001b[0;34m()\u001b[0m\n\u001b[0;32m----> 1\u001b[0;31m \u001b[0mali\u001b[0m \u001b[0;34m=\u001b[0m \u001b[0mPerson\u001b[0m\u001b[0;34m(\u001b[0m\u001b[0;34m\"Ali\"\u001b[0m\u001b[0;34m,\u001b[0m \u001b[0;36m24\u001b[0m\u001b[0;34m)\u001b[0m \u001b[0;31m# Correct\u001b[0m\u001b[0;34m\u001b[0m\u001b[0;34m\u001b[0m\u001b[0m\n\u001b[0m\u001b[1;32m      2\u001b[0m \u001b[0mali\u001b[0m\u001b[0;34m=\u001b[0m \u001b[0mPerson\u001b[0m\u001b[0;34m(\u001b[0m\u001b[0;34m\"Ali\"\u001b[0m\u001b[0;34m,\u001b[0m\u001b[0;34m\"24\"\u001b[0m\u001b[0;34m)\u001b[0m \u001b[0;31m# Mistake\u001b[0m\u001b[0;34m\u001b[0m\u001b[0;34m\u001b[0m\u001b[0m\n",
            "\u001b[0;31mNameError\u001b[0m: name 'Person' is not defined"
          ]
        }
      ]
    },
    {
      "cell_type": "markdown",
      "source": [
        "# Ex3"
      ],
      "metadata": {
        "id": "cQZdDjhVxyMr"
      }
    },
    {
      "cell_type": "code",
      "source": [
        "@dataclass\n",
        "class Person:\n",
        "    name: str\n",
        "    age: str\n",
        "\n",
        "# Using Pydantic\n",
        "class Person(BaseModel):\n",
        "    name: str\n",
        "    email: EmailStr\n",
        "    account_id: int"
      ],
      "metadata": {
        "id": "7ytP5KugxcI_"
      },
      "execution_count": null,
      "outputs": []
    },
    {
      "cell_type": "markdown",
      "source": [
        "# ***How To Use Pydantic***"
      ],
      "metadata": {
        "id": "zjr0J18yRlM0"
      }
    },
    {
      "cell_type": "markdown",
      "source": [
        "# EX4"
      ],
      "metadata": {
        "id": "aMZqJu41QuA5"
      }
    },
    {
      "cell_type": "code",
      "source": [
        "from pydantic import BaseModel\n",
        "\n",
        "class User(BaseModel):\n",
        "    name: str\n",
        "    email: str\n",
        "    account_id: int\n",
        "\n",
        "user = User(\n",
        "    name = \"Salah\",\n",
        "    email = \"salah@gmail.com\",\n",
        "    account_id = 12345\n",
        ")\n",
        "user_data = {\n",
        "    'name': 'Salah',\n",
        "    'email': 'salah@gmail.com',\n",
        "    'account_id': 12345\n",
        "}\n",
        "\n",
        "user = User(**user_data)\n",
        "print(user.name)    # Salah\n",
        "print(user.name)    # salah@gmail.com\n",
        "print(user.name)    # 12345"
      ],
      "metadata": {
        "colab": {
          "base_uri": "https://localhost:8080/"
        },
        "id": "pE99_I3wQxFB",
        "outputId": "9d55eefe-573a-45ce-fc19-76fbbfe84863"
      },
      "execution_count": 8,
      "outputs": [
        {
          "output_type": "stream",
          "name": "stdout",
          "text": [
            "Salah\n",
            "Salah\n",
            "Salah\n"
          ]
        }
      ]
    },
    {
      "cell_type": "markdown",
      "source": [
        "# ***Validating Data with Pydantic***"
      ],
      "metadata": {
        "id": "2hPnDK8RRvIe"
      }
    },
    {
      "cell_type": "markdown",
      "source": [
        "# EX5"
      ],
      "metadata": {
        "id": "w-ryzrjuRVDI"
      }
    },
    {
      "cell_type": "code",
      "source": [
        "from pydantic import BaseModel, ValidationError\n",
        "\n",
        "class User(BaseModel):\n",
        "    name: str\n",
        "    email: str\n",
        "    account_id: int\n",
        "\n",
        "try:\n",
        "    user = User(name='Ali', email='ali@gmailcom', account_id='hello')\n",
        "    print(user)\n",
        "except ValidationError as e:\n",
        "    print(\"Validation failed:\")\n",
        "    print(e)\n"
      ],
      "metadata": {
        "colab": {
          "base_uri": "https://localhost:8080/"
        },
        "id": "nhnOC7JFRXYy",
        "outputId": "e427763b-80c3-4d92-a2e9-cd5c9ca31cd2"
      },
      "execution_count": 12,
      "outputs": [
        {
          "output_type": "stream",
          "name": "stdout",
          "text": [
            "Validation failed:\n",
            "1 validation error for User\n",
            "account_id\n",
            "  Input should be a valid integer, unable to parse string as an integer [type=int_parsing, input_value='hello', input_type=str]\n",
            "    For further information visit https://errors.pydantic.dev/2.11/v/int_parsing\n"
          ]
        }
      ]
    },
    {
      "cell_type": "markdown",
      "source": [
        "# EX6"
      ],
      "metadata": {
        "id": "D8tQDB_9Rx0e"
      }
    },
    {
      "cell_type": "code",
      "source": [
        "!pip install email-validator\n",
        "!pip install pydantic[email]\n",
        "from pydantic import BaseModel, EmailStr\n",
        "\n",
        "\n",
        "\n",
        "class User(BaseModel):\n",
        "    name: str\n",
        "    email: EmailStr\n",
        "    account_id: int\n",
        "\n",
        "# Invalid email — this will now raise a validation error\n",
        "user = User(name='Ali', email='ali@gmail.com', account_id=1234)\n",
        "print(user)\n",
        "\n",
        "\n"
      ],
      "metadata": {
        "colab": {
          "base_uri": "https://localhost:8080/"
        },
        "id": "hUVczg-XRxbM",
        "outputId": "8f8c7d9b-0867-459a-f710-168d99b27b5a"
      },
      "execution_count": 18,
      "outputs": [
        {
          "output_type": "stream",
          "name": "stdout",
          "text": [
            "Requirement already satisfied: email-validator in /usr/local/lib/python3.11/dist-packages (2.2.0)\n",
            "Requirement already satisfied: dnspython>=2.0.0 in /usr/local/lib/python3.11/dist-packages (from email-validator) (2.7.0)\n",
            "Requirement already satisfied: idna>=2.0.0 in /usr/local/lib/python3.11/dist-packages (from email-validator) (3.10)\n",
            "Requirement already satisfied: pydantic[email] in /usr/local/lib/python3.11/dist-packages (2.11.3)\n",
            "Requirement already satisfied: annotated-types>=0.6.0 in /usr/local/lib/python3.11/dist-packages (from pydantic[email]) (0.7.0)\n",
            "Requirement already satisfied: pydantic-core==2.33.1 in /usr/local/lib/python3.11/dist-packages (from pydantic[email]) (2.33.1)\n",
            "Requirement already satisfied: typing-extensions>=4.12.2 in /usr/local/lib/python3.11/dist-packages (from pydantic[email]) (4.13.2)\n",
            "Requirement already satisfied: typing-inspection>=0.4.0 in /usr/local/lib/python3.11/dist-packages (from pydantic[email]) (0.4.0)\n",
            "Requirement already satisfied: email-validator>=2.0.0 in /usr/local/lib/python3.11/dist-packages (from pydantic[email]) (2.2.0)\n",
            "Requirement already satisfied: dnspython>=2.0.0 in /usr/local/lib/python3.11/dist-packages (from email-validator>=2.0.0->pydantic[email]) (2.7.0)\n",
            "Requirement already satisfied: idna>=2.0.0 in /usr/local/lib/python3.11/dist-packages (from email-validator>=2.0.0->pydantic[email]) (3.10)\n",
            "name='Ali' email='ali@gmail.com' account_id=1234\n"
          ]
        }
      ]
    },
    {
      "cell_type": "markdown",
      "source": [
        "# ***Custom Field Validation***"
      ],
      "metadata": {
        "id": "1ozb5iQMSNE-"
      }
    },
    {
      "cell_type": "markdown",
      "source": [
        "# EX7"
      ],
      "metadata": {
        "id": "49IMeQ9fSQlh"
      }
    },
    {
      "cell_type": "code",
      "source": [
        "from pydantic import BaseModel, EmailStr, field_validator, ValidationError\n",
        "\n",
        "class User(BaseModel):\n",
        "    name: str\n",
        "    email: EmailStr\n",
        "    account_id: int\n",
        "\n",
        "    @field_validator(\"account_id\")\n",
        "    @classmethod\n",
        "    def validate_account_id(cls, value):\n",
        "        if value <= 0:\n",
        "            raise ValueError(f\"account_id must be positive: {value}\")\n",
        "        return value\n",
        "\n",
        "# This will raise a validation error due to invalid email and negative account_id\n",
        "try:\n",
        "    user = User(name='Ali', email='ali', account_id=-12)\n",
        "    print(user)\n",
        "except ValidationError as e:\n",
        "    print(\"Validation failed:\")\n",
        "    print(e)\n"
      ],
      "metadata": {
        "colab": {
          "base_uri": "https://localhost:8080/"
        },
        "id": "ZK9QG8SuSSct",
        "outputId": "76b03c2f-6b60-4777-f27d-8d706076b747"
      },
      "execution_count": 20,
      "outputs": [
        {
          "output_type": "stream",
          "name": "stdout",
          "text": [
            "Validation failed:\n",
            "2 validation errors for User\n",
            "email\n",
            "  value is not a valid email address: An email address must have an @-sign. [type=value_error, input_value='ali', input_type=str]\n",
            "account_id\n",
            "  Value error, account_id must be positive: -12 [type=value_error, input_value=-12, input_type=int]\n",
            "    For further information visit https://errors.pydantic.dev/2.11/v/value_error\n"
          ]
        }
      ]
    },
    {
      "cell_type": "markdown",
      "source": [
        "# ***JSON Serialization***"
      ],
      "metadata": {
        "id": "90Rf8YoiKI0I"
      }
    },
    {
      "cell_type": "markdown",
      "source": [
        "# EX8"
      ],
      "metadata": {
        "id": "8fSS3Y17MPJV"
      }
    },
    {
      "cell_type": "code",
      "source": [
        "\n",
        "\n",
        "user_json_str = user.model_dump_json()\n",
        "print(user_json_str)\n",
        "\n",
        "\n",
        "user_json_obj = user.model_dump()\n",
        "print(user_json_obj)\n",
        "\n",
        "\n"
      ],
      "metadata": {
        "colab": {
          "base_uri": "https://localhost:8080/"
        },
        "id": "GSLWP0SfKKda",
        "outputId": "e88612af-01ee-4bb1-a5dd-7e6238bcc75a"
      },
      "execution_count": 21,
      "outputs": [
        {
          "output_type": "stream",
          "name": "stdout",
          "text": [
            "{\"name\":\"Ali\",\"email\":\"ali@gmail.com\",\"account_id\":1234}\n",
            "{'name': 'Ali', 'email': 'ali@gmail.com', 'account_id': 1234}\n"
          ]
        }
      ]
    },
    {
      "cell_type": "markdown",
      "source": [
        "# ***Pydantic vs Dataclasses***"
      ],
      "metadata": {
        "id": "njWtsCy9ML-l"
      }
    },
    {
      "cell_type": "markdown",
      "source": [
        "# EX9"
      ],
      "metadata": {
        "id": "5bDhIlW0MR-9"
      }
    },
    {
      "cell_type": "code",
      "source": [
        "# Python 3.6+\n",
        "x: int = 0\n",
        "y: str = \"hello\""
      ],
      "metadata": {
        "id": "rxqhsqOyMNF2"
      },
      "execution_count": 22,
      "outputs": []
    },
    {
      "cell_type": "code",
      "source": [
        "from dataclasses import dataclass\n",
        "\n",
        "@dataclass\n",
        "class User:\n",
        "    name: str\n",
        "    email: str\n",
        "    account_id: int"
      ],
      "metadata": {
        "id": "F5uSQCnjMZp9"
      },
      "execution_count": 23,
      "outputs": []
    }
  ]
}